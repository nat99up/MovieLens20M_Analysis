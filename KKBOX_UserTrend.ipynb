{
 "cells": [
  {
   "cell_type": "code",
   "execution_count": 1,
   "metadata": {},
   "outputs": [],
   "source": [
    "import pandas as pd\n",
    "import numpy as np"
   ]
  },
  {
   "cell_type": "code",
   "execution_count": 2,
   "metadata": {},
   "outputs": [],
   "source": [
    "rate_df = pd.read_csv('ratings.csv')\n",
    "movies_all_info = pd.read_csv('movie_info.csv',index_col = 'movieId')"
   ]
  },
  {
   "cell_type": "code",
   "execution_count": 3,
   "metadata": {},
   "outputs": [],
   "source": [
    "users = rate_df['userId'].values\n",
    "movies = rate_df['movieId'].values\n",
    "ratings = rate_df['rating'].values\n",
    "\n",
    "mid_index = movies_all_info.index\n",
    "mt_table = ['(no genres listed)', 'Action','Adventure','Animation','Children','Comedy','Crime','Documentary',\n",
    "           'Drama','Fantasy', 'Film-Noir','Horror','IMAX','Musical','Mystery','Romance','Sci-Fi','Thriller',\n",
    "           'War','Western']\n",
    "\n",
    "\n",
    "movies_all_info_table = np.array([[0.0]*22]*150000)         # [isMinied,Avg,mt*20]\n",
    "user_trend_att_table = np.array([[0]*20]*(max(users)+1))    # [mt_att*20] \n",
    "user_trend_tol_table = np.array([[0.0]*20]*(max(users)+1))  # [mt_tol*20] "
   ]
  },
  {
   "cell_type": "code",
   "execution_count": 4,
   "metadata": {
    "scrolled": false
   },
   "outputs": [],
   "source": [
    "cnt = 0\n",
    "for uid,mid,rating in zip(users,movies,ratings):\n",
    "    \n",
    "    if movies_all_info_table[mid][0] == 1:\n",
    "        rating_avg = movies_all_info_table[mid][1]\n",
    "        rating_diff = rating - rating_avg\n",
    "        \n",
    "        mts = movies_all_info_table[mid][2:]==1\n",
    "        user_trend_att_table[uid][mts] += 1\n",
    "        user_trend_tol_table[uid][mts] += rating_diff\n",
    "        \n",
    "    elif mid in mid_index:\n",
    "        movies_all_info_table[mid][0] = 1\n",
    "        movies_all_info_table[mid][1] = movies_all_info.loc[mid]['avg']\n",
    "        movies_all_info_table[mid][2:] = movies_all_info.loc[mid][mt_table]\n",
    "        \n",
    "        rating_avg = movies_all_info_table[mid][1]\n",
    "        rating_diff = rating - rating_avg\n",
    "        \n",
    "        mts = movies_all_info_table[mid][2:]==1\n",
    "        user_trend_att_table[uid][mts] += 1\n",
    "        user_trend_tol_table[uid][mts] += rating_diff\n",
    "        \n",
    "    else:\n",
    "        continue\n",
    "        \n",
    "    cnt+=1"
   ]
  },
  {
   "cell_type": "code",
   "execution_count": 5,
   "metadata": {
    "scrolled": true
   },
   "outputs": [],
   "source": [
    "\n",
    "\n",
    "user_trend_df_cnt = pd.DataFrame(data=user_trend_att_table,columns=[mt+'_cnt' for mt in mt_table])\n",
    "user_trend_df_rat = pd.DataFrame(data=user_trend_tol_table,columns=[mt+'_rat' for mt in mt_table])\n",
    "\n",
    "user_trend_df = pd.concat([user_trend_df_cnt,user_trend_df_rat],axis=1)\n",
    "\n",
    "\n"
   ]
  },
  {
   "cell_type": "code",
   "execution_count": 6,
   "metadata": {},
   "outputs": [],
   "source": [
    "mt_overall_voting = np.array([0]*len(mt_table))\n",
    "\n",
    "user_trend_info_mtid = np.array([[0,0,0]]*len(user_trend_att_table))\n",
    "user_trend_info_tol = np.array([[0.0,0.0,0.0]]*len(user_trend_att_table))\n",
    "\n",
    "id_cnt = 0\n",
    "\n",
    "for user_trend_array,tols in zip(user_trend_att_table,user_trend_tol_table):\n",
    "    \n",
    "    #mt_cnt_mean = np.mean(user_trend_array)\n",
    "    #mt_cnt_std = np.std(user_trend_array)\n",
    "    #mt_cnt_thres = mt_cnt_mean+mt_cnt_std\n",
    "    #mt_attention = user_trend_array>mt_cnt_thres\n",
    "    #mt_attention = [i for i,x in enumerate(user_trend_array>mt_cnt_thres) if x]\n",
    "    mt_attention = sorted(range(len(user_trend_array)), key=lambda i: user_trend_array[i])[-3:]\n",
    "    \n",
    "    \n",
    "    i = 0\n",
    "    for mtid in mt_attention:\n",
    "        \n",
    "        mt_overall_voting += user_trend_array\n",
    "        \n",
    "        \n",
    "        if user_trend_array[mtid] == 0:\n",
    "            user_trend_array[mtid] = -1\n",
    "        tol_avg = tols[mtid]/user_trend_array[mtid]\n",
    "        \n",
    "        user_trend_info_mtid[id_cnt][i] = mtid\n",
    "        user_trend_info_tol[id_cnt][i] = tol_avg\n",
    "        i += 1\n",
    "        \n",
    "        \n",
    "        symbol = '+' if tol_avg>0 else ''\n",
    "        \n",
    "        if tol_avg > 1.0:\n",
    "            comment = '非常寬容'\n",
    "        elif tol_avg > 0.5:\n",
    "            comment = '還算寬容'\n",
    "        elif tol_avg > -0.5:\n",
    "            comment = '評價平衡'\n",
    "        elif tol_avg > -1.0:\n",
    "            comment = '有點挑惕'\n",
    "        else:\n",
    "            comment = '非常挑惕'\n",
    "            \n",
    "        #print('user%06d 對%10s類電影%s(%s%f)' % (id_cnt,mt_table[mtid],comment,symbol,tol_avg))\n",
    "    #print('')\n",
    "    \n",
    "    id_cnt += 1"
   ]
  },
  {
   "cell_type": "code",
   "execution_count": 7,
   "metadata": {},
   "outputs": [
    {
     "name": "stderr",
     "output_type": "stream",
     "text": [
      "/anaconda3/lib/python3.6/site-packages/IPython/core/display.py:689: UserWarning:\n",
      "\n",
      "Consider using IPython.display.IFrame instead\n",
      "\n"
     ]
    },
    {
     "data": {
      "text/html": [
       "<iframe id=\"igraph\" scrolling=\"no\" style=\"border:none;\" seamless=\"seamless\" src=\"https://plot.ly/~nat99up/71.embed\" height=\"525px\" width=\"100%\"></iframe>"
      ],
      "text/plain": [
       "<plotly.tools.PlotlyDisplay object>"
      ]
     },
     "execution_count": 7,
     "metadata": {},
     "output_type": "execute_result"
    }
   ],
   "source": [
    "\n",
    "import plotly\n",
    "import plotly.graph_objs as go\n",
    "import plotly.plotly as py\n",
    "\n",
    "plotly.tools.set_credentials_file(username='nat99up', api_key='H6neWjamll2T6YtI5CG2')\n",
    "\n",
    "\n",
    "fig = {\n",
    "    'data' : [\n",
    "      go.Histogram(\n",
    "        histfunc = \"sum\",\n",
    "        y = mt_overall_voting,\n",
    "        x = mt_table,\n",
    "        name = \"count\",\n",
    "        marker=dict(\n",
    "        color='#EB89B5'\n",
    "    ),\n",
    "      ),\n",
    "    ],\n",
    "    'layout': {\n",
    "        'xaxis': {'title': 'Movie Type'},\n",
    "        'yaxis': {'title': \"User attention\", 'type': 'log'}\n",
    "    }\n",
    "}\n",
    "\n",
    "py.iplot(fig, filename='mt_overall_voting ')"
   ]
  },
  {
   "cell_type": "code",
   "execution_count": 8,
   "metadata": {},
   "outputs": [
    {
     "name": "stderr",
     "output_type": "stream",
     "text": [
      "/anaconda3/lib/python3.6/site-packages/IPython/core/display.py:689: UserWarning:\n",
      "\n",
      "Consider using IPython.display.IFrame instead\n",
      "\n"
     ]
    },
    {
     "data": {
      "text/html": [
       "<iframe id=\"igraph\" scrolling=\"no\" style=\"border:none;\" seamless=\"seamless\" src=\"https://plot.ly/~nat99up/71.embed\" height=\"525px\" width=\"100%\"></iframe>"
      ],
      "text/plain": [
       "<plotly.tools.PlotlyDisplay object>"
      ]
     },
     "execution_count": 8,
     "metadata": {},
     "output_type": "execute_result"
    }
   ],
   "source": [
    "trace = go.Pie(labels=mt_table, values=mt_overall_voting)\n",
    "py.iplot([trace],filename='mt_overall_voting ')"
   ]
  },
  {
   "cell_type": "code",
   "execution_count": null,
   "metadata": {},
   "outputs": [],
   "source": []
  },
  {
   "cell_type": "code",
   "execution_count": null,
   "metadata": {},
   "outputs": [],
   "source": []
  }
 ],
 "metadata": {
  "kernelspec": {
   "display_name": "Python 3",
   "language": "python",
   "name": "python3"
  },
  "language_info": {
   "codemirror_mode": {
    "name": "ipython",
    "version": 3
   },
   "file_extension": ".py",
   "mimetype": "text/x-python",
   "name": "python",
   "nbconvert_exporter": "python",
   "pygments_lexer": "ipython3",
   "version": "3.6.7"
  }
 },
 "nbformat": 4,
 "nbformat_minor": 2
}
