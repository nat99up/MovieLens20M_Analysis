{
 "cells": [
  {
   "cell_type": "code",
   "execution_count": 1,
   "metadata": {},
   "outputs": [],
   "source": [
    "import pandas as pd\n",
    "import numpy as np"
   ]
  },
  {
   "cell_type": "code",
   "execution_count": 2,
   "metadata": {},
   "outputs": [],
   "source": [
    "rate_df = pd.read_csv('ratings.csv')\n",
    "movies_all_info = pd.read_csv('movie_info.csv',index_col = 'movieId')"
   ]
  },
  {
   "cell_type": "code",
   "execution_count": 3,
   "metadata": {},
   "outputs": [],
   "source": [
    "users = rate_df['userId'].values\n",
    "movies = rate_df['movieId'].values\n",
    "ratings = rate_df['rating'].values\n",
    "\n",
    "mid_index = movies_all_info.index\n",
    "mt_table = ['(no genres listed)', 'Action','Adventure','Animation','Children','Comedy','Crime','Documentary',\n",
    "           'Drama','Fantasy', 'Film-Noir','Horror','IMAX','Musical','Mystery','Romance','Sci-Fi','Thriller',\n",
    "           'War','Western']\n",
    "\n",
    "\n",
    "movies_all_info_table = np.array([[0.0]*22]*150000)            # [isMinied,Avg,mt*20]\n",
    "user_trend_att_table = np.array([[0]*20]*(max(users)+1))    # [mt_att*20] \n",
    "user_trend_tol_table = np.array([[0.0]*20]*(max(users)+1))    # [mt_tol*20] "
   ]
  },
  {
   "cell_type": "code",
   "execution_count": 4,
   "metadata": {
    "scrolled": false
   },
   "outputs": [],
   "source": [
    "cnt = 0\n",
    "for uid,mid,rating in zip(users,movies,ratings):\n",
    "    \n",
    "    if movies_all_info_table[mid][0] == 1:\n",
    "        rating_avg = movies_all_info_table[mid][1]\n",
    "        rating_diff = rating - rating_avg\n",
    "        \n",
    "        mts = movies_all_info_table[mid][2:]==1\n",
    "        user_trend_att_table[uid][mts] += 1\n",
    "        user_trend_tol_table[uid][mts] += rating_diff\n",
    "        \n",
    "    elif mid in mid_index:\n",
    "        movies_all_info_table[mid][0] = 1\n",
    "        movies_all_info_table[mid][1] = movies_all_info.loc[mid]['avg']\n",
    "        movies_all_info_table[mid][2:] = movies_all_info.loc[mid][mt_table]\n",
    "        \n",
    "        rating_avg = movies_all_info_table[mid][1]\n",
    "        rating_diff = rating - rating_avg\n",
    "        \n",
    "        mts = movies_all_info_table[mid][2:]==1\n",
    "        user_trend_att_table[uid][mts] += 1\n",
    "        user_trend_tol_table[uid][mts] += rating_diff\n",
    "        \n",
    "    else:\n",
    "        continue\n",
    "        \n",
    "    cnt+=1"
   ]
  },
  {
   "cell_type": "code",
   "execution_count": 25,
   "metadata": {
    "scrolled": true
   },
   "outputs": [
    {
     "name": "stderr",
     "output_type": "stream",
     "text": [
      "/home/mvnl/anaconda3/envs/kkbox/lib/python3.6/site-packages/ipykernel_launcher.py:3: RuntimeWarning: invalid value encountered in true_divide\n",
      "  This is separate from the ipykernel package so we can avoid doing imports until\n"
     ]
    },
    {
     "data": {
      "text/plain": [
       "(array([        nan,  0.32283686,  0.13326492, -0.69735405, -0.42782104,\n",
       "         0.36720327,  0.42291583,  0.21205713, -0.10211184,  0.07317568,\n",
       "        -0.05251987,  0.81973225, -0.8573937 , -0.78378132,  0.36730244,\n",
       "        -0.14592217,  0.50549762,  0.46306383, -0.50240414,  0.19406781]),\n",
       " array([  0, 250, 189,  43,  86, 469, 178,  17, 495, 104,  18, 165,   4,\n",
       "         47,  90, 172, 161, 305,  47,  20]))"
      ]
     },
     "execution_count": 25,
     "metadata": {},
     "output_type": "execute_result"
    }
   ],
   "source": [
    "uid_test = 1972\n",
    "\n",
    "user_trend_tol_table[uid_test]/user_trend_att_table[uid_test],user_trend_att_table[uid_test]"
   ]
  },
  {
   "cell_type": "code",
   "execution_count": 39,
   "metadata": {},
   "outputs": [],
   "source": [
    "user_trend_df_cnt = pd.DataFrame(data=user_trend_att_table,columns=[mt+'_cnt' for mt in mt_table])\n",
    "user_trend_df_rat = pd.DataFrame(data=user_trend_tol_table,columns=[mt+'_rat' for mt in mt_table])\n",
    "\n",
    "user_trend_df = pd.concat([user_trend_df_cnt,user_trend_df_rat],axis=1)"
   ]
  },
  {
   "cell_type": "code",
   "execution_count": 45,
   "metadata": {},
   "outputs": [],
   "source": [
    "user_trend_df.to_csv('user_trend.csv',index=False)"
   ]
  },
  {
   "cell_type": "code",
   "execution_count": null,
   "metadata": {},
   "outputs": [],
   "source": []
  }
 ],
 "metadata": {
  "kernelspec": {
   "display_name": "Python 3",
   "language": "python",
   "name": "python3"
  },
  "language_info": {
   "codemirror_mode": {
    "name": "ipython",
    "version": 3
   },
   "file_extension": ".py",
   "mimetype": "text/x-python",
   "name": "python",
   "nbconvert_exporter": "python",
   "pygments_lexer": "ipython3",
   "version": "3.6.8"
  }
 },
 "nbformat": 4,
 "nbformat_minor": 2
}
