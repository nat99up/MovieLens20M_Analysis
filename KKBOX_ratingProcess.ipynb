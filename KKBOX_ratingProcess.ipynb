{
 "cells": [
  {
   "cell_type": "code",
   "execution_count": 1,
   "metadata": {},
   "outputs": [],
   "source": [
    "import pandas as pd\n",
    "import numpy as np\n",
    "from scipy import stats"
   ]
  },
  {
   "cell_type": "code",
   "execution_count": 2,
   "metadata": {},
   "outputs": [],
   "source": [
    "rate_df = pd.read_csv('ratings.csv')"
   ]
  },
  {
   "cell_type": "code",
   "execution_count": 3,
   "metadata": {},
   "outputs": [],
   "source": [
    "users = rate_df['userId'].values\n",
    "movies = rate_df['movieId'].values"
   ]
  },
  {
   "cell_type": "code",
   "execution_count": 4,
   "metadata": {},
   "outputs": [],
   "source": [
    "userIds,userRatingCnt = np.unique(users,return_counts=True)\n",
    "movieIds,movieRatingCnt = np.unique(movies,return_counts=True)"
   ]
  },
  {
   "cell_type": "code",
   "execution_count": 5,
   "metadata": {},
   "outputs": [],
   "source": [
    "userRatingMap = dict(zip(userIds,userRatingCnt))\n",
    "movieRatingMap = dict(zip(movieIds,movieRatingCnt))"
   ]
  },
  {
   "cell_type": "code",
   "execution_count": 6,
   "metadata": {},
   "outputs": [],
   "source": [
    "voting_threshold = 10\n",
    "\n",
    "mid_filter = [k for k, v in movieRatingMap.items() if v>=voting_threshold ]\n",
    "\n",
    "N = len(mid_filter)"
   ]
  },
  {
   "cell_type": "code",
   "execution_count": 7,
   "metadata": {},
   "outputs": [],
   "source": [
    "rating_avg = np.zeros(N)\n",
    "rating_std = np.zeros(N)\n",
    "rating_var = np.zeros(N)\n",
    "rating_med = np.zeros(N)\n",
    "rating_mod = np.zeros(N)\n",
    "rating_modpct = np.zeros(N)\n",
    "rating_cnt = np.zeros(N)\n",
    "\n",
    "for i in range(N):\n",
    "    \n",
    "    mid = mid_filter[i]\n",
    "    \n",
    "    index = rate_df['movieId'] == mid\n",
    "    arr_rating = rate_df[index]['rating'].values\n",
    "    \n",
    "    rating_avg[i] = np.mean(arr_rating)\n",
    "    rating_std[i] = np.std(arr_rating)\n",
    "    rating_var[i] = np.var(arr_rating)\n",
    "    rating_med[i] = np.median(arr_rating)\n",
    "    rating_mod[i] = stats.mode(arr_rating).mode[0]\n",
    "    rating_modpct[i] = stats.mode(arr_rating).count[0]/len(arr_rating)\n",
    "    rating_cnt[i] = len(arr_rating)"
   ]
  },
  {
   "cell_type": "code",
   "execution_count": 8,
   "metadata": {},
   "outputs": [],
   "source": [
    "data = np.array([mid_filter,rating_avg,rating_std,rating_var,rating_med,rating_mod,rating_modpct,rating_cnt]).T"
   ]
  },
  {
   "cell_type": "code",
   "execution_count": 11,
   "metadata": {},
   "outputs": [],
   "source": [
    "df = pd.DataFrame(data=data,columns=['movieId','avg','std','var','med','mode','mode%','ratingCnt'])\n",
    "df[['movieId','ratingCnt']] = df[['movieId','ratingCnt']].applymap(np.int64)"
   ]
  },
  {
   "cell_type": "code",
   "execution_count": 12,
   "metadata": {},
   "outputs": [],
   "source": [
    "df.to_csv('myRating.csv',index_col = False)"
   ]
  },
  {
   "cell_type": "code",
   "execution_count": null,
   "metadata": {},
   "outputs": [],
   "source": []
  }
 ],
 "metadata": {
  "kernelspec": {
   "display_name": "Python 3",
   "language": "python",
   "name": "python3"
  },
  "language_info": {
   "codemirror_mode": {
    "name": "ipython",
    "version": 3
   },
   "file_extension": ".py",
   "mimetype": "text/x-python",
   "name": "python",
   "nbconvert_exporter": "python",
   "pygments_lexer": "ipython3",
   "version": "3.6.8"
  }
 },
 "nbformat": 4,
 "nbformat_minor": 2
}
